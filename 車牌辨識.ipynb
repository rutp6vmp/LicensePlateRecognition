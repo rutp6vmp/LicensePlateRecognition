{
 "cells": [
  {
   "cell_type": "markdown",
   "metadata": {},
   "source": [
    "# 程式說明\n",
    "作業環境: `jupyter notebook`\n",
    "\n",
    "使用語言:`Python3`\n",
    "\n",
    "請安裝`pip install opencv-python`   目前使用版本1.16.2"
   ]
  },
  {
   "cell_type": "markdown",
   "metadata": {},
   "source": [
    "# 操作說明\n",
    "---\n",
    "透過OpenCv取得影像，並傳送到微軟Azure，篩選出車牌內容"
   ]
  },
  {
   "cell_type": "markdown",
   "metadata": {},
   "source": [
    "# 影像存取說明\n",
    "#### 導入函式庫\n",
    "import cv2  # 導入函式庫\n",
    "#### 打開視窗\n",
    "cv2.namedWindow('視窗名稱',選項與設定)\n",
    "#### 關閉視窗\n",
    "cv2.destroyWindow('視窗名稱')\n",
    "#### 讀取影像\n",
    "img = cv2.imread('圖檔.jpg',選項與設定)\n",
    "#### 顯示影像\n",
    "cv2.imshow('視窗名稱',img)\n",
    "#### 加入 等待時間\n",
    "cv2.waitKey(1000) #1000毫秒 = 1分鐘\n",
    "#### 儲存影像\n",
    "cv2.imwrite(存檔路徑,影像變數[,選項])"
   ]
  },
  {
   "cell_type": "markdown",
   "metadata": {},
   "source": [
    "# 將上述的功能結合起來應用"
   ]
  },
  {
   "cell_type": "code",
   "execution_count": 15,
   "metadata": {},
   "outputs": [
    {
     "name": "stdout",
     "output_type": "stream",
     "text": [
      "saved\n"
     ]
    }
   ],
   "source": [
    "import cv2\n",
    "\n",
    "try:\n",
    "    img = cv2.imread('2.jpg')             # 讀取圖片\n",
    "    img_small = cv2.resize(img, (300, 100)) # 改變尺寸\n",
    "    cv2.imshow('Frame1', img)               # 顯示原圖\n",
    "    cv2.imshow('Frame2', img_small)         # 顯示新圖\n",
    "    cv2.waitKey(1000)                          # 等待\n",
    "    cv2.destroyAllWindows()                 # 關閉視窗\n",
    "    try:\n",
    "        cv2.imwrite('small.jpg', img_small) # 儲存影像\n",
    "        print('saved')\n",
    "    except:\n",
    "        print('Error：write')\n",
    "except:\n",
    "    print('Error：read')"
   ]
  },
  {
   "cell_type": "markdown",
   "metadata": {},
   "source": [
    "---\n",
    "# 攝影機操作說明\n",
    "#### 攝影機\n",
    "攝影機物件 = cv2.VideoCapture(0)#若有多個攝影機可以決定幾號，N為數字\n",
    "capture = cv2.VideoCapture(0)\n",
    "#### 確認攝影機有沒有打開回傳一個布林值\n",
    "capture .isOpened()\n",
    "#### 從攝影機讀取影像，回傳一個布林值、影像變數\n",
    "success, img = capture .read()\n",
    "#### 從影像變數儲存影像\n",
    "cv2.imshow('視窗',影像變數)\n",
    "cv2.imwrite(存檔路徑,影像變數[,選項])\n",
    "#### 關閉攝影機\n",
    "capture.release()"
   ]
  },
  {
   "cell_type": "code",
   "execution_count": 1,
   "metadata": {},
   "outputs": [
    {
     "name": "stdout",
     "output_type": "stream",
     "text": [
      "稍後在此加入車牌辨識功能\n",
      "稍後在此加入車牌辨識功能\n",
      "稍後在此加入車牌辨識功能\n",
      "exit\n"
     ]
    }
   ],
   "source": [
    "import cv2                      # 匯入 cv2 套件\n",
    "\n",
    "capture = cv2.VideoCapture(0)   # 建立攝影機物件\n",
    "if capture.isOpened():          \n",
    "    while True:\n",
    "        sucess, img = capture.read()        # 讀取影像\n",
    "        if sucess:\n",
    "            cv2.imshow('Frame', img)        # 顯示影像\n",
    "        k = cv2.waitKey(100)                # 等待按鍵輸入\n",
    "        if k == ord('s') or k == ord('S'):  # 按下 S(s)\n",
    "            cv2.imwrite('shot.jpg', img)    # 儲存影像\n",
    "            print('稍後在此加入車牌辨識功能')   \n",
    "            \n",
    "        if k == ord('q') or k == ord('Q'):  # 按下 Q(q) 結束迴圈\n",
    "            print('exit')\n",
    "            cv2.destroyAllWindows()         # 關閉視窗\n",
    "            capture.release()               # 關閉攝影機\n",
    "            break\n",
    "else:\n",
    "    print('開啟攝影機失敗')\n",
    "\n",
    " "
   ]
  },
  {
   "cell_type": "markdown",
   "metadata": {},
   "source": [
    "# 使用Azure進行辨識\n",
    "---\n",
    "    Azure取得資訊:\n",
    "    端點\n",
    "\n",
    "    https://westcentralus.api.cognitive.microsoft.com/vision/v1.0\n",
    "\n",
    "    https://westcentralus.api.cognitive.microsoft.com/vision/v2.0\n",
    "\n",
    "    https://westcentralus.api.cognitive.microsoft.com/vision/v2.1\n",
    "\n",
    "    金鑰 1: b70b1bbfd92e41dabc36a1aa723164e7\n",
    "\n",
    "    金鑰 2: 6705b734640241b68f53caf1186ccd19"
   ]
  },
  {
   "cell_type": "markdown",
   "metadata": {},
   "source": [
    "    辨識respone1 = requests.post(請求路徑,請求標題,請求主題)\n",
    "    辨識格式 可以分為兩種\n",
    "    Handwritten  = 辨識手寫字\n",
    "    Printed = 辨識正體字(印刷)"
   ]
  },
  {
   "cell_type": "code",
   "execution_count": null,
   "metadata": {},
   "outputs": [],
   "source": [
    "# 車牌辨識範例\n",
    "base = https://westcentralus.api.cognitive.microsoft.com/vision/v2.0\n",
    "recog_url  = f'{base}/recognizeText?mode=Printed'\n",
    "response1 = requests.post(recog_url,請求標頭,請求主體)"
   ]
  },
  {
   "cell_type": "code",
   "execution_count": null,
   "metadata": {},
   "outputs": [],
   "source": [
    "#請求主體的型態內容範例\n",
    "key = 'b70b1bbfd92e41dabc36a1aa723164e7'\n",
    "headers_stream = { 'Ocp-Apim-Subscription-key':key\n",
    "                                        'Content-Type': 'application/octet-stream'} #body內容類型\n",
    "\n",
    "response1 = requests.post(請求路徑,\n",
    "                                                        headers = headers_stream,#指定標頭\n",
    "                                                        請求主題)"
   ]
  },
  {
   "cell_type": "code",
   "execution_count": null,
   "metadata": {},
   "outputs": [],
   "source": [
    "#請求主題範例(我們的影像資料)\n",
    "#傳送一張已經轉為bytes物件的影像資料\n",
    "response1 = requests.post(recong_url.\n",
    "                                                        headers = headers_stream,\n",
    "                                                        data = img_bytes)\n",
    "result_url = response1.headers['Operation-Lococation']"
   ]
  },
  {
   "cell_type": "code",
   "execution_count": null,
   "metadata": {},
   "outputs": [],
   "source": [
    "#取得辨識結果\n",
    "response2 = requests.get(請求路徑,請求標頭)\n",
    "#請求路徑 = 'Operation-Lococation'\n",
    "#請求標頭 = '伺服器的key資訊'"
   ]
  },
  {
   "cell_type": "code",
   "execution_count": 5,
   "metadata": {
    "scrolled": true
   },
   "outputs": [
    {
     "name": "stdout",
     "output_type": "stream",
     "text": [
      "Sleep...\n",
      "Sleep...\n",
      "Sleep...\n",
      "起床\n"
     ]
    }
   ],
   "source": [
    "#時間模組(sleep)-讓程式進入休眠\n",
    "import time\n",
    "#time.sleep(n) 時間秒數\n",
    "#使用範例\n",
    "import time \n",
    "for i in range(0,3):\n",
    "    print('Sleep...')\n",
    "    time.sleep(i)\n",
    "    \n",
    "print('起床')"
   ]
  },
  {
   "cell_type": "markdown",
   "metadata": {},
   "source": [
    "# 辨識圖片中車牌內容\n",
    "---\n",
    "1. 使用OpenCV獲取本地圖片\n",
    "2. 使用Azure 辨識出裡面的文字\n",
    "3. 辨識出圖片中可能包含的非數字型態的文字"
   ]
  },
  {
   "cell_type": "code",
   "execution_count": 17,
   "metadata": {},
   "outputs": [],
   "source": [
    "import requests\n",
    "import cv2\n",
    "import time\n",
    "import re\n",
    "\n",
    "base = 'https://westcentralus.api.cognitive.microsoft.com/vision/v2.0'\n",
    "recog_url = f'{base}/recognizeText?mode=Printed'\n",
    "key = 'b70b1bbfd92e41dabc36a1aa723164e7'\n",
    "headers = {'Ocp-Apim-Subscription-Key': key}                            # 查看結果的請求標頭\n",
    "headers_stream = {'Ocp-Apim-Subscription-Key': key,                     # 辨識的請求標頭\n",
    "                  'Content-Type': 'application/octet-stream'}  \n",
    "def get_license(img):\n",
    "    img_encode = cv2.imencode('.jpg', img)[1]       # 將 img 編碼為 jpg 格式，[1]返回資料, [0]返回是否成功\n",
    "    img_bytes     = img_encode.tobytes()                # 再將資料轉為 bytes, 此即為要傳送的資料\n",
    "    r1 = requests.post(recog_url,            # 發出 POST \n",
    "                              headers = headers_stream, \n",
    "                              data        = img_bytes)\n",
    "    if r1.status_code != 202:                # 202 代表接受請求\n",
    "        print(r1.json())\n",
    "        return '請求失敗'\n",
    "    #辨識請求成功\n",
    "    result_url = r1.headers['Operation-Location'] # 取得查看結果的請求路徑\n",
    "    r2 = requests.get(result_url, headers = headers) # 發出 GET 請求\n",
    "    while r2.status_code == 200 and r2.json()['status'] != 'Succeeded':\n",
    "        r2 = requests.get(result_url, headers = headers)    # 繼續發出 GET\n",
    "        time.sleep(0.5)\n",
    "        print('status: ', r2.json()['status'])      # 顯示辨識狀態\n",
    "    #辨識完成#\n",
    "    carcard = ''  # 紀錄車牌\n",
    "    lines = r2.json()['recognitionResult']['lines']\n",
    "    for i in range(len(lines)):\n",
    "        text = lines[i]['text'] # 取得辨識文字\n",
    "        m = re.match(r'^[\\w]{2,4}[-. ][\\w]{2,4}$', text)    # 匹配是否為車牌格式\n",
    "        if m != None:   # 匹配成功\n",
    "            carcard = m.group()\n",
    "            return carcard\n",
    "    if carcard == '':   # 無匹配結果\n",
    "        return '找不到車牌'"
   ]
  },
  {
   "cell_type": "markdown",
   "metadata": {},
   "source": [
    "## 程式說明\n",
    "--- \n",
    "- 13. 自訂函式接受到img 後，先使用cv2的`imencode()`方法將影像進行JPEG的格式編碼並暫存於記憶中，回傳結果的索引值\n",
    "- 14. 編碼後的的影像資料再經由`tobytes()`方法轉為bytes物件，即可透過post傳送\n",
    "- 24~27. 當r2 回應物件的`status`內容並非`Succeeded`時,等待0.5秒再發送一次請求直到`status`為`Succeeded`為止，離開迴圈執行下列事件\n",
    "- 30~32. 若辨識成功，則由r2回應物件中取出鍵為'lines'的串列，再以for迴圈取出其中所有text的內容\n",
    "- 33. 將所有text 匹配車牌的常規表達式，內容必須以2-4個英數字為開頭，中間可以式'-'、'.'、'**空白**'符號，最後再以2-4個英文字結尾"
   ]
  },
  {
   "cell_type": "code",
   "execution_count": 18,
   "metadata": {},
   "outputs": [
    {
     "name": "stdout",
     "output_type": "stream",
     "text": [
      "status:  Start\n",
      "車牌： RAT.2182\n"
     ]
    }
   ],
   "source": [
    "try:\n",
    "    img = cv2.imread('car2.jpg') # 讀取圖片\n",
    "    print('status:  Start')\n",
    "    text = get_license(img)     # 辨識圖片中的車牌\n",
    "    print('車牌：', text)\n",
    "    cv2.imshow('Frame', img)    # 顯示圖片\n",
    "    cv2.waitKey(0)              # 等待\n",
    "    cv2.destroyAllWindows()     # 關閉視窗\n",
    "except:\n",
    "    print('讀取圖片失敗')"
   ]
  },
  {
   "cell_type": "markdown",
   "metadata": {},
   "source": [
    "## 攝影機進行拍照再進行車牌辨識\n",
    "---\n",
    "操作 :  \n",
    "Ctrl + Enter = 執行程式(開啟攝影機)\n",
    "\n",
    "S  = 代表儲存影像\n",
    "\n",
    "Q = 關閉攝影機"
   ]
  },
  {
   "cell_type": "code",
   "execution_count": 22,
   "metadata": {},
   "outputs": [
    {
     "name": "stdout",
     "output_type": "stream",
     "text": [
      "車牌 : 9C.9508\n",
      "exit\n"
     ]
    }
   ],
   "source": [
    "import requests\n",
    "import cv2\n",
    "import time\n",
    "import re\n",
    "\n",
    "base = 'https://westcentralus.api.cognitive.microsoft.com/vision/v2.0'\n",
    "recog_url = f'{base}/recognizeText?mode=Printed'\n",
    "key = 'b70b1bbfd92e41dabc36a1aa723164e7'\n",
    "headers = {'Ocp-Apim-Subscription-Key': key}                            # 查看結果的請求標頭\n",
    "headers_stream = {'Ocp-Apim-Subscription-Key': key,                     # 辨識的請求標頭\n",
    "                  'Content-Type': 'application/octet-stream'}  \n",
    "def get_license(img):\n",
    "    img_encode = cv2.imencode('.jpg', img)[1]       # 將 img 編碼為 jpg 格式，[1]返回資料, [0]返回是否成功\n",
    "    img_bytes     = img_encode.tobytes()                # 再將資料轉為 bytes, 此即為要傳送的資料\n",
    "    r1 = requests.post(recog_url,            # 發出 POST \n",
    "                              headers = headers_stream, \n",
    "                              data        = img_bytes)\n",
    "    if r1.status_code != 202:                # 202 代表接受請求\n",
    "        print(r1.json())\n",
    "        return '請求失敗'\n",
    "    #辨識請求成功\n",
    "    result_url = r1.headers['Operation-Location'] # 取得查看結果的請求路徑\n",
    "    r2 = requests.get(result_url, headers = headers) # 發出 GET 請求\n",
    "    while r2.status_code == 200 and r2.json()['status'] != 'Succeeded':\n",
    "        r2 = requests.get(result_url, headers = headers)    # 繼續發出 GET\n",
    "        time.sleep(0.5)\n",
    "        print('status: ', r2.json()['status'])      # 顯示辨識狀態\n",
    "    #辨識完成#\n",
    "    carcard = ''  # 紀錄車牌\n",
    "    lines = r2.json()['recognitionResult']['lines']\n",
    "    for i in range(len(lines)):\n",
    "        text = lines[i]['text'] # 取得辨識文字\n",
    "        m = re.match(r'^[\\w]{2,4}[-. ][\\w]{2,4}$', text)    # 匹配是否為車牌格式\n",
    "        if m != None:   # 匹配成功\n",
    "            carcard = m.group()\n",
    "            return carcard\n",
    "    if carcard == '':   # 無匹配結果\n",
    "        return '找不到車牌'\n",
    "\n",
    "capture = cv2.VideoCapture(0)#建立攝影機物件\n",
    "if capture.isOpened():\n",
    "    while True:\n",
    "        sucess, img = capture.read()\n",
    "        if sucess :\n",
    "            cv2.imshow('Frame', img)\n",
    "        k = cv2.waitKey(100)\n",
    "        if k == ord('s') or k ==ord ('S'):\n",
    "            cv2.imwrite('shot.jpg', img)\n",
    "            text = get_license(img)\n",
    "            print('車牌 :',text)\n",
    "            \n",
    "        if k == ord('q') or k == ord('Q'):\n",
    "            print('exit')\n",
    "            cv2.destroyAllWindows()\n",
    "            capture.release()\n",
    "            break\n",
    "            \n",
    "else:\n",
    "    print('開啟攝影機失效')"
   ]
  }
 ],
 "metadata": {
  "kernelspec": {
   "display_name": "Python 3",
   "language": "python",
   "name": "python3"
  },
  "language_info": {
   "codemirror_mode": {
    "name": "ipython",
    "version": 3
   },
   "file_extension": ".py",
   "mimetype": "text/x-python",
   "name": "python",
   "nbconvert_exporter": "python",
   "pygments_lexer": "ipython3",
   "version": "3.7.3"
  }
 },
 "nbformat": 4,
 "nbformat_minor": 2
}
